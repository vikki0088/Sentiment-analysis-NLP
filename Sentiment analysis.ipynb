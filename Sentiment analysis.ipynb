{
 "cells": [
  {
   "cell_type": "markdown",
   "id": "6e3a74ef",
   "metadata": {},
   "source": [
    "# SENTIMENT ANALYSIS: \n",
    "#### of https://insights.blackcoffer.com"
   ]
  },
  {
   "cell_type": "code",
   "execution_count": 204,
   "id": "fc2ec3f1",
   "metadata": {},
   "outputs": [],
   "source": [
    "# importing necessery dependencies\n",
    "import pandas as pd        \n",
    "import numpy as np\n",
    "import re\n",
    "import os"
   ]
  },
  {
   "cell_type": "code",
   "execution_count": 205,
   "id": "8cee951b",
   "metadata": {},
   "outputs": [
    {
     "data": {
      "text/html": [
       "<div>\n",
       "<style scoped>\n",
       "    .dataframe tbody tr th:only-of-type {\n",
       "        vertical-align: middle;\n",
       "    }\n",
       "\n",
       "    .dataframe tbody tr th {\n",
       "        vertical-align: top;\n",
       "    }\n",
       "\n",
       "    .dataframe thead th {\n",
       "        text-align: right;\n",
       "    }\n",
       "</style>\n",
       "<table border=\"1\" class=\"dataframe\">\n",
       "  <thead>\n",
       "    <tr style=\"text-align: right;\">\n",
       "      <th></th>\n",
       "      <th>URL_ID</th>\n",
       "      <th>URL</th>\n",
       "    </tr>\n",
       "  </thead>\n",
       "  <tbody>\n",
       "    <tr>\n",
       "      <th>0</th>\n",
       "      <td>37</td>\n",
       "      <td>https://insights.blackcoffer.com/ai-in-healthc...</td>\n",
       "    </tr>\n",
       "    <tr>\n",
       "      <th>1</th>\n",
       "      <td>38</td>\n",
       "      <td>https://insights.blackcoffer.com/what-if-the-c...</td>\n",
       "    </tr>\n",
       "    <tr>\n",
       "      <th>2</th>\n",
       "      <td>39</td>\n",
       "      <td>https://insights.blackcoffer.com/what-jobs-wil...</td>\n",
       "    </tr>\n",
       "    <tr>\n",
       "      <th>3</th>\n",
       "      <td>40</td>\n",
       "      <td>https://insights.blackcoffer.com/will-machine-...</td>\n",
       "    </tr>\n",
       "    <tr>\n",
       "      <th>4</th>\n",
       "      <td>41</td>\n",
       "      <td>https://insights.blackcoffer.com/will-ai-repla...</td>\n",
       "    </tr>\n",
       "  </tbody>\n",
       "</table>\n",
       "</div>"
      ],
      "text/plain": [
       "   URL_ID                                                URL\n",
       "0      37  https://insights.blackcoffer.com/ai-in-healthc...\n",
       "1      38  https://insights.blackcoffer.com/what-if-the-c...\n",
       "2      39  https://insights.blackcoffer.com/what-jobs-wil...\n",
       "3      40  https://insights.blackcoffer.com/will-machine-...\n",
       "4      41  https://insights.blackcoffer.com/will-ai-repla..."
      ]
     },
     "execution_count": 205,
     "metadata": {},
     "output_type": "execute_result"
    }
   ],
   "source": [
    "data = pd.read_excel(\"Input.xlsx\")\n",
    "data.head()"
   ]
  },
  {
   "cell_type": "code",
   "execution_count": 206,
   "id": "041dda10",
   "metadata": {},
   "outputs": [
    {
     "data": {
      "text/plain": [
       "'https://insights.blackcoffer.com/ai-in-healthcare-to-improve-patient-outcomes/'"
      ]
     },
     "execution_count": 206,
     "metadata": {},
     "output_type": "execute_result"
    }
   ],
   "source": [
    "data['URL'][0]"
   ]
  },
  {
   "cell_type": "markdown",
   "id": "2aa27485",
   "metadata": {},
   "source": [
    "dropping the URL_ID columns because we need textual data to work on with"
   ]
  },
  {
   "cell_type": "code",
   "execution_count": 207,
   "id": "a23f0274",
   "metadata": {},
   "outputs": [],
   "source": [
    "data.drop('URL_ID',axis=1,inplace=True)"
   ]
  },
  {
   "cell_type": "code",
   "execution_count": 208,
   "id": "24e9b759",
   "metadata": {},
   "outputs": [
    {
     "name": "stdout",
     "output_type": "stream",
     "text": [
      "<class 'pandas.core.frame.DataFrame'>\n",
      "RangeIndex: 114 entries, 0 to 113\n",
      "Data columns (total 1 columns):\n",
      " #   Column  Non-Null Count  Dtype \n",
      "---  ------  --------------  ----- \n",
      " 0   URL     114 non-null    object\n",
      "dtypes: object(1)\n",
      "memory usage: 1.0+ KB\n"
     ]
    }
   ],
   "source": [
    "#information of data frame\n",
    "data.info()"
   ]
  },
  {
   "cell_type": "code",
   "execution_count": 209,
   "id": "d53c1289",
   "metadata": {},
   "outputs": [
    {
     "data": {
      "text/html": [
       "<div>\n",
       "<style scoped>\n",
       "    .dataframe tbody tr th:only-of-type {\n",
       "        vertical-align: middle;\n",
       "    }\n",
       "\n",
       "    .dataframe tbody tr th {\n",
       "        vertical-align: top;\n",
       "    }\n",
       "\n",
       "    .dataframe thead th {\n",
       "        text-align: right;\n",
       "    }\n",
       "</style>\n",
       "<table border=\"1\" class=\"dataframe\">\n",
       "  <thead>\n",
       "    <tr style=\"text-align: right;\">\n",
       "      <th></th>\n",
       "      <th>URL</th>\n",
       "    </tr>\n",
       "  </thead>\n",
       "  <tbody>\n",
       "    <tr>\n",
       "      <th>0</th>\n",
       "      <td>https://insights.blackcoffer.com/ai-in-healthc...</td>\n",
       "    </tr>\n",
       "    <tr>\n",
       "      <th>1</th>\n",
       "      <td>https://insights.blackcoffer.com/what-if-the-c...</td>\n",
       "    </tr>\n",
       "    <tr>\n",
       "      <th>2</th>\n",
       "      <td>https://insights.blackcoffer.com/what-jobs-wil...</td>\n",
       "    </tr>\n",
       "    <tr>\n",
       "      <th>3</th>\n",
       "      <td>https://insights.blackcoffer.com/will-machine-...</td>\n",
       "    </tr>\n",
       "    <tr>\n",
       "      <th>4</th>\n",
       "      <td>https://insights.blackcoffer.com/will-ai-repla...</td>\n",
       "    </tr>\n",
       "  </tbody>\n",
       "</table>\n",
       "</div>"
      ],
      "text/plain": [
       "                                                 URL\n",
       "0  https://insights.blackcoffer.com/ai-in-healthc...\n",
       "1  https://insights.blackcoffer.com/what-if-the-c...\n",
       "2  https://insights.blackcoffer.com/what-jobs-wil...\n",
       "3  https://insights.blackcoffer.com/will-machine-...\n",
       "4  https://insights.blackcoffer.com/will-ai-repla..."
      ]
     },
     "execution_count": 209,
     "metadata": {},
     "output_type": "execute_result"
    }
   ],
   "source": [
    "#removing extra created column``\n",
    "data.head()"
   ]
  },
  {
   "cell_type": "code",
   "execution_count": 210,
   "id": "c1f2c868",
   "metadata": {},
   "outputs": [
    {
     "data": {
      "text/plain": [
       "'https://insights.blackcoffer.com/ai-in-healthcare-to-improve-patient-outcomes/'"
      ]
     },
     "execution_count": 210,
     "metadata": {},
     "output_type": "execute_result"
    }
   ],
   "source": [
    "data['URL'][0]"
   ]
  },
  {
   "cell_type": "markdown",
   "id": "b956fccd",
   "metadata": {},
   "source": [
    "# Data Analysis and Data preprocessing:"
   ]
  },
  {
   "cell_type": "code",
   "execution_count": 211,
   "id": "37ef4f06",
   "metadata": {},
   "outputs": [],
   "source": [
    "def abcd(x):    \n",
    "    nopunc =[char for char in x if char != '.']         # removing the . characters\n",
    "    return ''.join(nopunc)                               \n",
    "\n",
    "data['URL']=data['URL'].apply(abcd)"
   ]
  },
  {
   "cell_type": "code",
   "execution_count": 212,
   "id": "bf86021a",
   "metadata": {},
   "outputs": [],
   "source": [
    "def abcd(x):    \n",
    "    nopunc =[char for char in x if char != ':']          # Removing the \":\" charecters\n",
    "    return ''.join(nopunc)\n",
    "data['URL']=data['URL'].apply(abcd)"
   ]
  },
  {
   "cell_type": "markdown",
   "id": "3b38b3a4",
   "metadata": {},
   "source": [
    "### 'https://insights.blackcoffer.com/' is the common domain name for every record.so we removing from the data set."
   ]
  },
  {
   "cell_type": "code",
   "execution_count": 213,
   "id": "c85a5485",
   "metadata": {},
   "outputs": [],
   "source": [
    "data['URL']=data['URL'].replace('insightsblackcoffercom',\" \",regex=True)   "
   ]
  },
  {
   "cell_type": "code",
   "execution_count": 214,
   "id": "c2948faf",
   "metadata": {},
   "outputs": [],
   "source": [
    "data['URL']=data['URL'].replace('https// /',\" \",regex=True)"
   ]
  },
  {
   "cell_type": "code",
   "execution_count": 215,
   "id": "4e3fe020",
   "metadata": {},
   "outputs": [
    {
     "data": {
      "text/html": [
       "<div>\n",
       "<style scoped>\n",
       "    .dataframe tbody tr th:only-of-type {\n",
       "        vertical-align: middle;\n",
       "    }\n",
       "\n",
       "    .dataframe tbody tr th {\n",
       "        vertical-align: top;\n",
       "    }\n",
       "\n",
       "    .dataframe thead th {\n",
       "        text-align: right;\n",
       "    }\n",
       "</style>\n",
       "<table border=\"1\" class=\"dataframe\">\n",
       "  <thead>\n",
       "    <tr style=\"text-align: right;\">\n",
       "      <th></th>\n",
       "      <th>URL</th>\n",
       "    </tr>\n",
       "  </thead>\n",
       "  <tbody>\n",
       "    <tr>\n",
       "      <th>0</th>\n",
       "      <td>ai-in-healthcare-to-improve-patient-outcomes/</td>\n",
       "    </tr>\n",
       "    <tr>\n",
       "      <th>1</th>\n",
       "      <td>what-if-the-creation-is-taking-over-the-creator/</td>\n",
       "    </tr>\n",
       "    <tr>\n",
       "      <th>2</th>\n",
       "      <td>what-jobs-will-robots-take-from-humans-in-the...</td>\n",
       "    </tr>\n",
       "    <tr>\n",
       "      <th>3</th>\n",
       "      <td>will-machine-replace-the-human-in-the-future-...</td>\n",
       "    </tr>\n",
       "    <tr>\n",
       "      <th>4</th>\n",
       "      <td>will-ai-replace-us-or-work-with-us/</td>\n",
       "    </tr>\n",
       "    <tr>\n",
       "      <th>...</th>\n",
       "      <td>...</td>\n",
       "    </tr>\n",
       "    <tr>\n",
       "      <th>109</th>\n",
       "      <td>blockchain-for-payments/</td>\n",
       "    </tr>\n",
       "    <tr>\n",
       "      <th>110</th>\n",
       "      <td>the-future-of-investing/</td>\n",
       "    </tr>\n",
       "    <tr>\n",
       "      <th>111</th>\n",
       "      <td>big-data-analytics-in-healthcare/</td>\n",
       "    </tr>\n",
       "    <tr>\n",
       "      <th>112</th>\n",
       "      <td>business-analytics-in-the-healthcare-industry/</td>\n",
       "    </tr>\n",
       "    <tr>\n",
       "      <th>113</th>\n",
       "      <td>challenges-and-opportunities-of-big-data-in-h...</td>\n",
       "    </tr>\n",
       "  </tbody>\n",
       "</table>\n",
       "<p>114 rows × 1 columns</p>\n",
       "</div>"
      ],
      "text/plain": [
       "                                                   URL\n",
       "0        ai-in-healthcare-to-improve-patient-outcomes/\n",
       "1     what-if-the-creation-is-taking-over-the-creator/\n",
       "2     what-jobs-will-robots-take-from-humans-in-the...\n",
       "3     will-machine-replace-the-human-in-the-future-...\n",
       "4                  will-ai-replace-us-or-work-with-us/\n",
       "..                                                 ...\n",
       "109                           blockchain-for-payments/\n",
       "110                           the-future-of-investing/\n",
       "111                  big-data-analytics-in-healthcare/\n",
       "112     business-analytics-in-the-healthcare-industry/\n",
       "113   challenges-and-opportunities-of-big-data-in-h...\n",
       "\n",
       "[114 rows x 1 columns]"
      ]
     },
     "execution_count": 215,
     "metadata": {},
     "output_type": "execute_result"
    }
   ],
   "source": [
    "data"
   ]
  },
  {
   "cell_type": "code",
   "execution_count": 245,
   "id": "3d58fce6",
   "metadata": {},
   "outputs": [],
   "source": [
    "# importing the nltk and stopwords\n",
    "import nltk\n",
    "import string"
   ]
  },
  {
   "cell_type": "code",
   "execution_count": 217,
   "id": "d237468a",
   "metadata": {},
   "outputs": [],
   "source": [
    "# importing all the stop words\n",
    "StopWords_Auditor=pd.read_csv(\"StopWords_Auditor.txt\",header=None)\n",
    "StopWords_Currencies=pd.read_csv(\"StopWords_Currencies.txt\",header=None,encoding=\"ISO-8859-1\",on_bad_lines='skip')\n",
    "StopWords_DatesandNumbers=pd.read_csv(\"StopWords_DatesandNumbers.txt\",header=None)\n",
    "StopWords_Generic=pd.read_csv(\"StopWords_Generic.txt\",header=None)\n",
    "StopWords_GenericLong=pd.read_csv(\"StopWords_GenericLong.txt\",header=None)\n",
    "StopWords_Geographic=pd.read_csv(\"StopWords_Geographic.txt\",header=None)\n",
    "StopWords_Names=pd.read_csv(\"StopWords_Names.txt\",header=None)"
   ]
  },
  {
   "cell_type": "markdown",
   "id": "f9634a89",
   "metadata": {},
   "source": [
    "#### removing everything except alphabets and numbers "
   ]
  },
  {
   "cell_type": "code",
   "execution_count": 218,
   "id": "d54ed37e",
   "metadata": {},
   "outputs": [],
   "source": [
    "corpus = []\n",
    "for i in range(len(data)):\n",
    "    review = re.sub('[^a-zA-Z1-9]', ' ', data['URL'][i])\n",
    "    review = review.lower()\n",
    "    review.split()\n",
    "    corpus.append(review)"
   ]
  },
  {
   "cell_type": "code",
   "execution_count": 221,
   "id": "8ed34eda",
   "metadata": {},
   "outputs": [],
   "source": [
    "new_corpus = pd.DataFrame(corpus)"
   ]
  },
  {
   "cell_type": "markdown",
   "id": "e03d8e22",
   "metadata": {},
   "source": [
    "### Text preprocessing "
   ]
  },
  {
   "cell_type": "code",
   "execution_count": 222,
   "id": "c96c19be",
   "metadata": {},
   "outputs": [],
   "source": [
    "#creating func for removing stop words\n",
    "def text_process(text):\n",
    "    txt=' '.join([word for word in text.split() if word.lower() not in StopWords_Auditor])\n",
    "    txt1=' '.join([word for word in txt.split() if word.lower() not in StopWords_Currencies])\n",
    "    txt2=' '.join([word for word in txt1.split() if word.lower() not in StopWords_DatesandNumbers])\n",
    "    txt3=' '.join([word for word in txt2.split() if word.lower() not in StopWords_Generic])\n",
    "    txt4=' '.join([word for word in txt3.split() if word.lower() not in StopWords_GenericLong])\n",
    "    txt5=' '.join([word for word in txt4.split() if word.lower() not in StopWords_Geographic])\n",
    "    return ' '.join([word for word in txt5.split() if word.lower() not in StopWords_Names])\n"
   ]
  },
  {
   "cell_type": "code",
   "execution_count": 223,
   "id": "fc299bc4",
   "metadata": {},
   "outputs": [],
   "source": [
    "new_corpus[0] = new_corpus[0].apply(text_process)"
   ]
  },
  {
   "cell_type": "code",
   "execution_count": 224,
   "id": "9252c79d",
   "metadata": {},
   "outputs": [
    {
     "data": {
      "text/html": [
       "<div>\n",
       "<style scoped>\n",
       "    .dataframe tbody tr th:only-of-type {\n",
       "        vertical-align: middle;\n",
       "    }\n",
       "\n",
       "    .dataframe tbody tr th {\n",
       "        vertical-align: top;\n",
       "    }\n",
       "\n",
       "    .dataframe thead th {\n",
       "        text-align: right;\n",
       "    }\n",
       "</style>\n",
       "<table border=\"1\" class=\"dataframe\">\n",
       "  <thead>\n",
       "    <tr style=\"text-align: right;\">\n",
       "      <th></th>\n",
       "      <th>0</th>\n",
       "    </tr>\n",
       "  </thead>\n",
       "  <tbody>\n",
       "    <tr>\n",
       "      <th>0</th>\n",
       "      <td>ai in healthcare to improve patient outcomes</td>\n",
       "    </tr>\n",
       "    <tr>\n",
       "      <th>1</th>\n",
       "      <td>what if the creation is taking over the creator</td>\n",
       "    </tr>\n",
       "    <tr>\n",
       "      <th>2</th>\n",
       "      <td>what jobs will robots take from humans in the ...</td>\n",
       "    </tr>\n",
       "    <tr>\n",
       "      <th>3</th>\n",
       "      <td>will machine replace the human in the future o...</td>\n",
       "    </tr>\n",
       "    <tr>\n",
       "      <th>4</th>\n",
       "      <td>will ai replace us or work with us</td>\n",
       "    </tr>\n",
       "    <tr>\n",
       "      <th>...</th>\n",
       "      <td>...</td>\n",
       "    </tr>\n",
       "    <tr>\n",
       "      <th>109</th>\n",
       "      <td>blockchain for payments</td>\n",
       "    </tr>\n",
       "    <tr>\n",
       "      <th>110</th>\n",
       "      <td>the future of investing</td>\n",
       "    </tr>\n",
       "    <tr>\n",
       "      <th>111</th>\n",
       "      <td>big data analytics in healthcare</td>\n",
       "    </tr>\n",
       "    <tr>\n",
       "      <th>112</th>\n",
       "      <td>business analytics in the healthcare industry</td>\n",
       "    </tr>\n",
       "    <tr>\n",
       "      <th>113</th>\n",
       "      <td>challenges and opportunities of big data in he...</td>\n",
       "    </tr>\n",
       "  </tbody>\n",
       "</table>\n",
       "<p>114 rows × 1 columns</p>\n",
       "</div>"
      ],
      "text/plain": [
       "                                                     0\n",
       "0         ai in healthcare to improve patient outcomes\n",
       "1      what if the creation is taking over the creator\n",
       "2    what jobs will robots take from humans in the ...\n",
       "3    will machine replace the human in the future o...\n",
       "4                   will ai replace us or work with us\n",
       "..                                                 ...\n",
       "109                            blockchain for payments\n",
       "110                            the future of investing\n",
       "111                   big data analytics in healthcare\n",
       "112      business analytics in the healthcare industry\n",
       "113  challenges and opportunities of big data in he...\n",
       "\n",
       "[114 rows x 1 columns]"
      ]
     },
     "execution_count": 224,
     "metadata": {},
     "output_type": "execute_result"
    }
   ],
   "source": [
    "new_corpus"
   ]
  },
  {
   "cell_type": "code",
   "execution_count": 253,
   "id": "a1df50ee",
   "metadata": {},
   "outputs": [],
   "source": [
    "# importing master dictionarys\n",
    "negative = pd.read_csv(\"negative-words.txt\",header = None, encoding=\"ISO-8859-1\")\n",
    "positive = pd.read_csv(\"positive-words.txt\",header = None)"
   ]
  },
  {
   "cell_type": "code",
   "execution_count": 254,
   "id": "efeee13a",
   "metadata": {},
   "outputs": [],
   "source": [
    "negative.columns = ['n_words']\n",
    "positive.columns = ['p_words']"
   ]
  },
  {
   "cell_type": "code",
   "execution_count": 256,
   "id": "769b5596",
   "metadata": {},
   "outputs": [],
   "source": [
    "#positive and negative dictionary without stopwords\n",
    "positive['p_words']=positive['p_words'].apply(text_process)\n",
    "negative['n_words']=negative['n_words'].apply(text_process)"
   ]
  },
  {
   "cell_type": "code",
   "execution_count": 257,
   "id": "3b2f5991",
   "metadata": {},
   "outputs": [],
   "source": [
    "#positive list\n",
    "length=positive.shape[0]\n",
    "post=[]\n",
    "for i in range(0,length):\n",
    "    nopunc =[char for char in positive.iloc[i] if char not in string.punctuation or char != '+']\n",
    "    nopunc=''.join(nopunc)\n",
    "\n",
    "    post.append(nopunc)"
   ]
  },
  {
   "cell_type": "code",
   "execution_count": 258,
   "id": "88b8ca9d",
   "metadata": {},
   "outputs": [],
   "source": [
    "#negative list\n",
    "length=negative.shape[0]\n",
    "nag=[]\n",
    "for i in range(0,length):\n",
    "    nopunc =[char for char in negative.iloc[i] if char not in string.punctuation or char != '+']\n",
    "    nopunc=''.join(nopunc)\n",
    "    neg.append(nopunc)"
   ]
  },
  {
   "cell_type": "markdown",
   "id": "663441f7",
   "metadata": {},
   "source": [
    "#### Breaking sentance into words, we are used 'word_tokenize' module"
   ]
  },
  {
   "cell_type": "code",
   "execution_count": 259,
   "id": "381f6ddc",
   "metadata": {},
   "outputs": [],
   "source": [
    "#importing tokenize library\n",
    "from nltk.tokenize import word_tokenize"
   ]
  },
  {
   "cell_type": "code",
   "execution_count": 264,
   "id": "b43f0fec",
   "metadata": {},
   "outputs": [],
   "source": [
    "txt_list=[]\n",
    "length=new_corpus.shape[0]\n",
    "for i in range(0,length):\n",
    "    txt=' '.join([word for word in c.iloc[i]])\n",
    "    txt_list.append(txt)\n"
   ]
  },
  {
   "cell_type": "code",
   "execution_count": 266,
   "id": "afba72ca",
   "metadata": {},
   "outputs": [],
   "source": [
    "#tokenization of text\n",
    "tokenize_text=[]\n",
    "for i in txt_list:\n",
    "  \n",
    "  tokenize_text+=(word_tokenize(i))"
   ]
  },
  {
   "cell_type": "code",
   "execution_count": 268,
   "id": "c6c1a4a6",
   "metadata": {},
   "outputs": [
    {
     "data": {
      "text/plain": [
       "1035"
      ]
     },
     "execution_count": 268,
     "metadata": {},
     "output_type": "execute_result"
    }
   ],
   "source": [
    "len(tokenize_text)"
   ]
  },
  {
   "cell_type": "markdown",
   "id": "a3b7b79d",
   "metadata": {},
   "source": [
    "# Positive score"
   ]
  },
  {
   "cell_type": "code",
   "execution_count": 270,
   "id": "75b696c7",
   "metadata": {},
   "outputs": [
    {
     "name": "stdout",
     "output_type": "stream",
     "text": [
      "postive score= 30\n"
     ]
    }
   ],
   "source": [
    "positive_score=0\n",
    "for i in tokenize_text:\n",
    "    if(i.lower() in post):\n",
    "        positive_score+=1\n",
    "print('postive score=', positive_score)     "
   ]
  },
  {
   "cell_type": "markdown",
   "id": "a0920fc5",
   "metadata": {},
   "source": [
    "# Negitive score"
   ]
  },
  {
   "cell_type": "code",
   "execution_count": 288,
   "id": "cfcb1965",
   "metadata": {},
   "outputs": [
    {
     "name": "stdout",
     "output_type": "stream",
     "text": [
      "negative score: 27\n"
     ]
    }
   ],
   "source": [
    "negative_score=0\n",
    "for i in tokenize_text:\n",
    "    if(i.lower() in neg):\n",
    "        negative_score+=1\n",
    "print(f'negative score: {negative_score}')"
   ]
  },
  {
   "cell_type": "markdown",
   "id": "0497c04b",
   "metadata": {},
   "source": [
    "# Polarity score"
   ]
  },
  {
   "cell_type": "code",
   "execution_count": 287,
   "id": "5face0ea",
   "metadata": {},
   "outputs": [
    {
     "name": "stdout",
     "output_type": "stream",
     "text": [
      "polarity_score: 0.052631578024007405\n"
     ]
    }
   ],
   "source": [
    "#Polarity Score = (Positive Score – Negative Score)/ ((Positive Score + Negative Score) + 0.000001)\n",
    "Polarity_Score=(positive_score-negative_score)/((positive_score+negative_score)+0.000001)\n",
    "print(f'polarity_score: {Polarity_Score}')"
   ]
  },
  {
   "cell_type": "markdown",
   "id": "1bb9a4a5",
   "metadata": {},
   "source": [
    "# Subjectivity score"
   ]
  },
  {
   "cell_type": "code",
   "execution_count": 286,
   "id": "db822d48",
   "metadata": {},
   "outputs": [
    {
     "name": "stdout",
     "output_type": "stream",
     "text": [
      "Subjectivity_score: 0.002898550724637681\n"
     ]
    }
   ],
   "source": [
    "Subjectivity_score=(positive_score-negative_score)/(len(tokenize_text))\n",
    "print(f'Subjectivity_score: {Subjectivity_score}')"
   ]
  },
  {
   "cell_type": "markdown",
   "id": "5ac11b91",
   "metadata": {},
   "source": [
    "# Avarage sentence length "
   ]
  },
  {
   "cell_type": "code",
   "execution_count": 285,
   "id": "e862e353",
   "metadata": {},
   "outputs": [
    {
     "name": "stdout",
     "output_type": "stream",
     "text": [
      "avg sentence length: 54.6578947368421\n"
     ]
    }
   ],
   "source": [
    "length=new_corpus.shape[0]\n",
    "avg_length=[]\n",
    "for i in range(0,length):\n",
    "    avg_length.append(len(new_corpus[0].iloc[i]))\n",
    "avg_sentance_length=sum(avg_length)/len(avg_length)\n",
    "print(f'avg sentence length: {avg_sentance_length}')"
   ]
  },
  {
   "cell_type": "markdown",
   "id": "1dcaf01f",
   "metadata": {},
   "source": [
    "# Personal pronouns"
   ]
  },
  {
   "cell_type": "code",
   "execution_count": 282,
   "id": "1b85e067",
   "metadata": {},
   "outputs": [
    {
     "name": "stdout",
     "output_type": "stream",
     "text": [
      "personal pronouns: 6\n"
     ]
    }
   ],
   "source": [
    "pronouns=['i','we','my','ours','us']\n",
    "count=0\n",
    "for i in tokenize_text:\n",
    "    if i.lower() in pronouns:\n",
    "        count+=1\n",
    "personal_pronouns=count\n",
    "print(f'personal pronouns: {personal_pronouns}' )\n",
    "     "
   ]
  },
  {
   "cell_type": "markdown",
   "id": "5ff54c2c",
   "metadata": {},
   "source": [
    "# Avarage word length"
   ]
  },
  {
   "cell_type": "code",
   "execution_count": 283,
   "id": "d2e07537",
   "metadata": {},
   "outputs": [
    {
     "name": "stdout",
     "output_type": "stream",
     "text": [
      "avg word:  5.130434782608695\n"
     ]
    }
   ],
   "source": [
    "count=0\n",
    "for i in tokenize_text:\n",
    "    for j in i:\n",
    "        count+=1\n",
    "avg_word_length=count/len(tokenize_text)\n",
    "print(f'avg word:  {avg_word_length}')"
   ]
  },
  {
   "cell_type": "markdown",
   "id": "ee564c56",
   "metadata": {},
   "source": [
    "# Word count"
   ]
  },
  {
   "cell_type": "code",
   "execution_count": 284,
   "id": "d4d4a4ab",
   "metadata": {},
   "outputs": [
    {
     "name": "stdout",
     "output_type": "stream",
     "text": [
      "word count: 1035\n"
     ]
    }
   ],
   "source": [
    "word_count=len(tokenize_text)\n",
    "print(f'word count: {word_count}')"
   ]
  },
  {
   "cell_type": "markdown",
   "id": "ac5fcd48",
   "metadata": {},
   "source": [
    "# Avarage sentance length"
   ]
  },
  {
   "cell_type": "code",
   "execution_count": 293,
   "id": "f94d0d82",
   "metadata": {},
   "outputs": [
    {
     "name": "stdout",
     "output_type": "stream",
     "text": [
      "avg sentance length: 54.6578947368421\n"
     ]
    }
   ],
   "source": [
    "length=new_corpus.shape[0]\n",
    "avg_length=[]\n",
    "for i in range(0,length):\n",
    "    avg_length.append(len(new_corpus[0].iloc[i]))\n",
    "avg_sentance_length=sum(avg_length)/len(avg_length)\n",
    "print(f'avg sentance length: {avg_sentance_length}')"
   ]
  },
  {
   "cell_type": "markdown",
   "id": "707e7fcc",
   "metadata": {},
   "source": [
    "# A varage number of words per sentance"
   ]
  },
  {
   "cell_type": "code",
   "execution_count": 289,
   "id": "08b2b647",
   "metadata": {},
   "outputs": [
    {
     "name": "stdout",
     "output_type": "stream",
     "text": [
      "avg no of words per sentence=  9.078947368421053\n"
     ]
    }
   ],
   "source": [
    "length=new_corpus.shape[0]\n",
    "avg_length=[]\n",
    "for i in range(0,length):\n",
    "    a=[word.split( ) for word in new_corpus.iloc[i]]\n",
    "    avg_length.append(len(a[0]))\n",
    "    a=0\n",
    "#avg\n",
    "avg_no_of_words_per_sentence=sum(avg_length)/length\n",
    "print(\"avg no of words per sentence= \",avg_no_of_words_per_sentence)"
   ]
  },
  {
   "cell_type": "code",
   "execution_count": 297,
   "id": "22a2934c",
   "metadata": {},
   "outputs": [],
   "source": [
    "new_data={'positive_score':positive_score,\n",
    "          'negative_score':negative_score,\n",
    "          'Polarity_Score':Polarity_Score,\n",
    "          'Subjectivity score':Subjectivity_score,\n",
    "          'Avarage_sentence_length':avg_sentance_length,\n",
    "          'avg_no_of_words_per_sentence':avg_no_of_words_per_sentence,\n",
    "          'word_count':word_count,'personal_pronouns':personal_pronouns,\n",
    "          'Avarage_word_length': avg_word_length}"
   ]
  },
  {
   "cell_type": "code",
   "execution_count": 312,
   "id": "b5974168",
   "metadata": {},
   "outputs": [
    {
     "name": "stderr",
     "output_type": "stream",
     "text": [
      "C:\\Users\\NAVEEN KUMAR\\AppData\\Local\\Temp\\ipykernel_9504\\3578879891.py:2: FutureWarning: The frame.append method is deprecated and will be removed from pandas in a future version. Use pandas.concat instead.\n",
      "  output=output.append(new_data,ignore_index=True)\n"
     ]
    },
    {
     "data": {
      "text/html": [
       "<div>\n",
       "<style scoped>\n",
       "    .dataframe tbody tr th:only-of-type {\n",
       "        vertical-align: middle;\n",
       "    }\n",
       "\n",
       "    .dataframe tbody tr th {\n",
       "        vertical-align: top;\n",
       "    }\n",
       "\n",
       "    .dataframe thead th {\n",
       "        text-align: right;\n",
       "    }\n",
       "</style>\n",
       "<table border=\"1\" class=\"dataframe\">\n",
       "  <thead>\n",
       "    <tr style=\"text-align: right;\">\n",
       "      <th></th>\n",
       "      <th>positive_score</th>\n",
       "      <th>negative_score</th>\n",
       "      <th>Polarity_Score</th>\n",
       "      <th>Subjectivity score</th>\n",
       "      <th>Avarage_sentence_length</th>\n",
       "      <th>avg_no_of_words_per_sentence</th>\n",
       "      <th>word_count</th>\n",
       "      <th>personal_pronouns</th>\n",
       "      <th>avg_word_length</th>\n",
       "    </tr>\n",
       "  </thead>\n",
       "  <tbody>\n",
       "    <tr>\n",
       "      <th>0</th>\n",
       "      <td>30.0</td>\n",
       "      <td>27.0</td>\n",
       "      <td>0.052632</td>\n",
       "      <td>0.002899</td>\n",
       "      <td>54.657895</td>\n",
       "      <td>9.078947</td>\n",
       "      <td>1035.0</td>\n",
       "      <td>6.0</td>\n",
       "      <td>5.130435</td>\n",
       "    </tr>\n",
       "  </tbody>\n",
       "</table>\n",
       "</div>"
      ],
      "text/plain": [
       "   positive_score  negative_score  Polarity_Score  Subjectivity score  \\\n",
       "0            30.0            27.0        0.052632            0.002899   \n",
       "\n",
       "   Avarage_sentence_length  avg_no_of_words_per_sentence  word_count  \\\n",
       "0                54.657895                      9.078947      1035.0   \n",
       "\n",
       "   personal_pronouns  avg_word_length  \n",
       "0                6.0         5.130435  "
      ]
     },
     "execution_count": 312,
     "metadata": {},
     "output_type": "execute_result"
    }
   ],
   "source": [
    "output=pd.DataFrame()\n",
    "output=output.append(new_data,ignore_index=True)\n",
    "output.columns=['positive_score','negative_score','Polarity_Score','Subjectivity score','Avarage_sentence_length','avg_no_of_words_per_sentence','word_count','personal_pronouns','avg_word_length']\n",
    "output\n",
    "     "
   ]
  },
  {
   "cell_type": "code",
   "execution_count": null,
   "id": "fcce5dd4",
   "metadata": {},
   "outputs": [],
   "source": []
  },
  {
   "cell_type": "code",
   "execution_count": null,
   "id": "e03ec056",
   "metadata": {},
   "outputs": [],
   "source": []
  },
  {
   "cell_type": "code",
   "execution_count": null,
   "id": "2ad20d40",
   "metadata": {},
   "outputs": [],
   "source": []
  }
 ],
 "metadata": {
  "kernelspec": {
   "display_name": "Python 3 (ipykernel)",
   "language": "python",
   "name": "python3"
  },
  "language_info": {
   "codemirror_mode": {
    "name": "ipython",
    "version": 3
   },
   "file_extension": ".py",
   "mimetype": "text/x-python",
   "name": "python",
   "nbconvert_exporter": "python",
   "pygments_lexer": "ipython3",
   "version": "3.10.6"
  }
 },
 "nbformat": 4,
 "nbformat_minor": 5
}
